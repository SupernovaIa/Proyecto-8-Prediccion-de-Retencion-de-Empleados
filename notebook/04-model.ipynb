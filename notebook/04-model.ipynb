{
 "cells": [
  {
   "cell_type": "code",
   "execution_count": null,
   "metadata": {},
   "outputs": [],
   "source": [
    "# Tratamiento de datos\n",
    "# -----------------------------------------------------------------------\n",
    "import pandas as pd\n",
    "import numpy as np\n",
    "\n",
    "# Visualizaciones\n",
    "# -----------------------------------------------------------------------\n",
    "import seaborn as sns\n",
    "import matplotlib.pyplot as plt\n",
    "from sklearn import tree\n",
    "\n",
    "# Para realizar la clasificación y la evaluación del modelo\n",
    "# -----------------------------------------------------------------------\n",
    "from sklearn.linear_model import LogisticRegression\n",
    "from sklearn.tree import DecisionTreeClassifier\n",
    "from sklearn.ensemble import RandomForestClassifier, GradientBoostingClassifier\n",
    "from sklearn.model_selection import train_test_split, learning_curve, GridSearchCV, cross_val_score, StratifiedKFold, KFold\n",
    "from sklearn.metrics import (\n",
    "    accuracy_score,\n",
    "    precision_score,\n",
    "    recall_score,\n",
    "    f1_score,\n",
    "    roc_auc_score,\n",
    "    cohen_kappa_score,\n",
    "    confusion_matrix\n",
    ")\n",
    "import xgboost as xgb\n",
    "import pickle\n",
    "import shap\n",
    "import time\n",
    "import psutil\n",
    "\n",
    "# Para realizar cross validation\n",
    "# -----------------------------------------------------------------------\n",
    "from sklearn.model_selection import StratifiedKFold, cross_val_score, KFold\n",
    "from sklearn.preprocessing import KBinsDiscretizer\n",
    "\n",
    "\n",
    "import warnings  \n",
    "warnings.filterwarnings(\"ignore\") "
   ]
  },
  {
   "cell_type": "code",
   "execution_count": null,
   "metadata": {},
   "outputs": [],
   "source": [
    "import sys\n",
    "sys.path.append(\"../\")\n",
    "\n",
    "from src.support_models import ClassificationModels"
   ]
  },
  {
   "cell_type": "code",
   "execution_count": null,
   "metadata": {},
   "outputs": [],
   "source": [
    "df = pd.read_csv('../data/output/complete_data_preprocessed.csv', index_col=0)"
   ]
  },
  {
   "cell_type": "code",
   "execution_count": null,
   "metadata": {},
   "outputs": [],
   "source": [
    "df.head()"
   ]
  },
  {
   "cell_type": "markdown",
   "metadata": {},
   "source": [
    "### Logistic regression"
   ]
  },
  {
   "cell_type": "code",
   "execution_count": null,
   "metadata": {},
   "outputs": [],
   "source": [
    "models = ClassificationModels(df, \"Attrition\")"
   ]
  },
  {
   "cell_type": "code",
   "execution_count": null,
   "metadata": {},
   "outputs": [],
   "source": [
    "model_list = [\"logistic_regression\", \"tree\", \"random_forest\", \"gradient_boosting\", \"xgboost\"]\n",
    "\n",
    "for model in model_list:\n",
    "\n",
    "    models.fit_model(model)\n",
    "    models.plot_confusion_matrix(model)\n",
    "    models.plot_predictors_importance(model)\n",
    "    models.plot_shap_summary(model)\n",
    "    df_results = models.get_metrics(model)"
   ]
  },
  {
   "cell_type": "code",
   "execution_count": null,
   "metadata": {},
   "outputs": [],
   "source": [
    "\n",
    "# llamamos a la función para ajustar el modelo\n",
    "logistic.ajustar_modelo(\"logistic_regression\")\n",
    "\n",
    "logistic.plot_matriz_confusion(\"logistic_regression\")\n",
    "logistic.importancia_predictores(modelo_nombre ='logistic_regression')\n",
    "logistic.plot_shap_summary(modelo_nombre=\"logistic_regression\")\n",
    "\n",
    "# llamamos al metodo para obtener los resultaods de las predicciones\n",
    "df_resultados = logistic.calcular_metricas(modelo_nombre =  \"logistic_regression\" )\n",
    "df_resultados[\"modelo\"] = \"regresion logistica\"\n",
    "df_resultados"
   ]
  }
 ],
 "metadata": {
  "kernelspec": {
   "display_name": "proyecto7",
   "language": "python",
   "name": "python3"
  },
  "language_info": {
   "codemirror_mode": {
    "name": "ipython",
    "version": 3
   },
   "file_extension": ".py",
   "mimetype": "text/x-python",
   "name": "python",
   "nbconvert_exporter": "python",
   "pygments_lexer": "ipython3",
   "version": "3.12.7"
  }
 },
 "nbformat": 4,
 "nbformat_minor": 2
}
